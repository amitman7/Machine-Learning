{
  "cells": [
    {
      "cell_type": "code",
      "execution_count": 1,
      "metadata": {
        "colab": {
          "base_uri": "https://localhost:8080/"
        },
        "id": "h9J8ZcjR2MO0",
        "outputId": "deb5f9a0-a909-46fb-b07c-f4884775ea8c"
      },
      "outputs": [
        {
          "output_type": "stream",
          "name": "stdout",
          "text": [
            "Requirement already satisfied: xgboost in /usr/local/lib/python3.10/dist-packages (2.0.3)\n",
            "Requirement already satisfied: numpy in /usr/local/lib/python3.10/dist-packages (from xgboost) (1.25.2)\n",
            "Requirement already satisfied: scipy in /usr/local/lib/python3.10/dist-packages (from xgboost) (1.11.4)\n"
          ]
        }
      ],
      "source": [
        "import pandas as pd\n",
        "from sklearn.metrics import accuracy_score\n",
        "from sklearn.tree import DecisionTreeClassifier\n",
        "from sklearn.ensemble import RandomForestClassifier,AdaBoostClassifier, GradientBoostingClassifier\n",
        "from sklearn.neighbors import KNeighborsClassifier\n",
        "from sklearn.model_selection import  GridSearchCV\n",
        "from sklearn.metrics import accuracy_score, precision_score, recall_score, f1_score, mean_squared_error,confusion_matrix,classification_report\n",
        "from sklearn.preprocessing import MinMaxScaler\n",
        "import os\n",
        "from sklearn.linear_model import LinearRegression,LogisticRegression\n",
        "from sklearn.preprocessing import StandardScaler, LabelEncoder\n",
        "from sklearn.svm import SVC\n",
        "from sklearn.model_selection import train_test_split\n",
        "!pip install xgboost\n",
        "from xgboost import XGBClassifier\n"
      ]
    },
    {
      "cell_type": "code",
      "execution_count": 2,
      "metadata": {
        "colab": {
          "base_uri": "https://localhost:8080/"
        },
        "collapsed": true,
        "id": "Egd4T63u2bl_",
        "outputId": "bccb4868-5422-478e-e37e-d836acf77387"
      },
      "outputs": [
        {
          "output_type": "stream",
          "name": "stdout",
          "text": [
            "Mounted at /content/drive\n",
            "Number of samples: 40533\n",
            "Number of features: 42\n",
            "\n",
            "train set:\n",
            "HEAD:\n",
            "       f0  f1  f2  f3  f4  f5  f6  f7  f8  f9  ...  f33  f34  f35  f36  f37  \\\n",
            "51905   1   0   0   0   0   0   2   1   2   2  ...    0    0    0    2    0   \n",
            "52612   0   0   0   0   0   0   2   1   0   0  ...    0    0    0    2    0   \n",
            "61699   2   1   2   1   1   0   2   2   0   0  ...    0    0    0    1    0   \n",
            "6291    0   0   0   0   0   0   0   0   0   0  ...    0    0    0    2    0   \n",
            "17484   0   0   0   0   0   0   1   1   2   0  ...    0    0    0    2    1   \n",
            "\n",
            "       f38  f39  f40  f41  target  \n",
            "51905    0    0    0    0       2  \n",
            "52612    0    0    0    0       2  \n",
            "61699    0    0    0    0       2  \n",
            "6291     0    0    0    0       2  \n",
            "17484    2    0    0    0       2  \n",
            "\n",
            "[5 rows x 43 columns]\n",
            "STATISTICS:\n",
            "                 f0            f1            f2            f3            f4  \\\n",
            "count  40533.000000  40533.000000  40533.000000  40533.000000  40533.000000   \n",
            "mean       0.959539      0.540054      0.270890      0.131745      0.051982   \n",
            "std        0.834109      0.779471      0.612657      0.448263      0.290031   \n",
            "min        0.000000      0.000000      0.000000      0.000000      0.000000   \n",
            "25%        0.000000      0.000000      0.000000      0.000000      0.000000   \n",
            "50%        1.000000      0.000000      0.000000      0.000000      0.000000   \n",
            "75%        2.000000      1.000000      0.000000      0.000000      0.000000   \n",
            "max        2.000000      2.000000      2.000000      2.000000      2.000000   \n",
            "\n",
            "                 f5            f6            f7            f8            f9  \\\n",
            "count  40533.000000  40533.000000  40533.000000  40533.000000  40533.000000   \n",
            "mean       0.009844      1.064269      0.582982      0.288407      0.137912   \n",
            "std        0.119114      0.838151      0.793958      0.627516      0.457701   \n",
            "min        0.000000      0.000000      0.000000      0.000000      0.000000   \n",
            "25%        0.000000      0.000000      0.000000      0.000000      0.000000   \n",
            "50%        0.000000      1.000000      0.000000      0.000000      0.000000   \n",
            "75%        0.000000      2.000000      1.000000      0.000000      0.000000   \n",
            "max        2.000000      2.000000      2.000000      2.000000      2.000000   \n",
            "\n",
            "       ...           f33           f34           f35           f36  \\\n",
            "count  ...  40533.000000  40533.000000  40533.000000  40533.000000   \n",
            "mean   ...      0.059260      0.014877      0.001604      0.838749   \n",
            "std    ...      0.303588      0.152614      0.046832      0.832101   \n",
            "min    ...      0.000000      0.000000      0.000000      0.000000   \n",
            "25%    ...      0.000000      0.000000      0.000000      0.000000   \n",
            "50%    ...      0.000000      0.000000      0.000000      1.000000   \n",
            "75%    ...      0.000000      0.000000      0.000000      2.000000   \n",
            "max    ...      2.000000      2.000000      2.000000      2.000000   \n",
            "\n",
            "                f37           f38           f39           f40           f41  \\\n",
            "count  40533.000000  40533.000000  40533.000000  40533.000000  40533.000000   \n",
            "mean       0.427331      0.188587      0.069992      0.016036      0.001406   \n",
            "std        0.724840      0.525442      0.330019      0.155936      0.042993   \n",
            "min        0.000000      0.000000      0.000000      0.000000      0.000000   \n",
            "25%        0.000000      0.000000      0.000000      0.000000      0.000000   \n",
            "50%        0.000000      0.000000      0.000000      0.000000      0.000000   \n",
            "75%        1.000000      0.000000      0.000000      0.000000      0.000000   \n",
            "max        2.000000      2.000000      2.000000      2.000000      2.000000   \n",
            "\n",
            "             target  \n",
            "count  40533.000000  \n",
            "mean       1.562924  \n",
            "std        0.662817  \n",
            "min        0.000000  \n",
            "25%        1.000000  \n",
            "50%        2.000000  \n",
            "75%        2.000000  \n",
            "max        2.000000  \n",
            "\n",
            "[8 rows x 43 columns]\n",
            "IS NULL:\n",
            "f0        0\n",
            "f1        0\n",
            "f2        0\n",
            "f3        0\n",
            "f4        0\n",
            "f5        0\n",
            "f6        0\n",
            "f7        0\n",
            "f8        0\n",
            "f9        0\n",
            "f10       0\n",
            "f11       0\n",
            "f12       0\n",
            "f13       0\n",
            "f14       0\n",
            "f15       0\n",
            "f16       0\n",
            "f17       0\n",
            "f18       0\n",
            "f19       0\n",
            "f20       0\n",
            "f21       0\n",
            "f22       0\n",
            "f23       0\n",
            "f24       0\n",
            "f25       0\n",
            "f26       0\n",
            "f27       0\n",
            "f28       0\n",
            "f29       0\n",
            "f30       0\n",
            "f31       0\n",
            "f32       0\n",
            "f33       0\n",
            "f34       0\n",
            "f35       0\n",
            "f36       0\n",
            "f37       0\n",
            "f38       0\n",
            "f39       0\n",
            "f40       0\n",
            "f41       0\n",
            "target    0\n",
            "dtype: int64\n",
            "-------------------\n",
            "\n",
            "dev set:\n",
            "HEAD:\n",
            "       f0  f1  f2  f3  f4  f5  f6  f7  f8  f9  ...  f33  f34  f35  f36  f37  \\\n",
            "104     1   2   0   0   0   0   0   0   0   0  ...    0    0    0    0    0   \n",
            "3548    2   0   0   0   0   0   2   0   0   0  ...    0    0    0    0    0   \n",
            "11672   1   0   0   0   0   0   2   2   0   0  ...    0    0    0    2    1   \n",
            "58531   0   0   0   0   0   0   2   1   2   2  ...    0    0    0    0    0   \n",
            "14252   0   0   0   0   0   0   1   2   1   2  ...    0    0    0    0    0   \n",
            "\n",
            "       f38  f39  f40  f41  target  \n",
            "104      0    0    0    0       2  \n",
            "3548     0    0    0    0       1  \n",
            "11672    0    0    0    0       2  \n",
            "58531    0    0    0    0       1  \n",
            "14252    0    0    0    0       2  \n",
            "\n",
            "[5 rows x 43 columns]\n",
            "STATISTICS:\n",
            "                 f0            f1            f2            f3            f4  \\\n",
            "count  13512.000000  13512.000000  13512.000000  13512.000000  13512.000000   \n",
            "mean       0.960702      0.533896      0.265690      0.127664      0.051362   \n",
            "std        0.837917      0.777928      0.604927      0.438403      0.288731   \n",
            "min        0.000000      0.000000      0.000000      0.000000      0.000000   \n",
            "25%        0.000000      0.000000      0.000000      0.000000      0.000000   \n",
            "50%        1.000000      0.000000      0.000000      0.000000      0.000000   \n",
            "75%        2.000000      1.000000      0.000000      0.000000      0.000000   \n",
            "max        2.000000      2.000000      2.000000      2.000000      2.000000   \n",
            "\n",
            "                 f5            f6            f7            f8            f9  \\\n",
            "count  13512.000000  13512.000000  13512.000000  13512.000000  13512.000000   \n",
            "mean       0.010731      1.058393      0.581409      0.293147      0.144390   \n",
            "std        0.125689      0.839540      0.791415      0.628902      0.464353   \n",
            "min        0.000000      0.000000      0.000000      0.000000      0.000000   \n",
            "25%        0.000000      0.000000      0.000000      0.000000      0.000000   \n",
            "50%        0.000000      1.000000      0.000000      0.000000      0.000000   \n",
            "75%        0.000000      2.000000      1.000000      0.000000      0.000000   \n",
            "max        2.000000      2.000000      2.000000      2.000000      2.000000   \n",
            "\n",
            "       ...           f33           f34           f35           f36  \\\n",
            "count  ...  13512.000000  13512.000000  13512.000000  13512.000000   \n",
            "mean   ...      0.054470      0.014876      0.001036      0.839624   \n",
            "std    ...      0.291735      0.149509      0.032173      0.834790   \n",
            "min    ...      0.000000      0.000000      0.000000      0.000000   \n",
            "25%    ...      0.000000      0.000000      0.000000      0.000000   \n",
            "50%    ...      0.000000      0.000000      0.000000      1.000000   \n",
            "75%    ...      0.000000      0.000000      0.000000      2.000000   \n",
            "max    ...      2.000000      2.000000      1.000000      2.000000   \n",
            "\n",
            "                f37           f38           f39           f40           f41  \\\n",
            "count  13512.000000  13512.000000  13512.000000  13512.000000  13512.000000   \n",
            "mean       0.430284      0.191015      0.069938      0.018650      0.001998   \n",
            "std        0.726968      0.529633      0.329726      0.167551      0.052293   \n",
            "min        0.000000      0.000000      0.000000      0.000000      0.000000   \n",
            "25%        0.000000      0.000000      0.000000      0.000000      0.000000   \n",
            "50%        0.000000      0.000000      0.000000      0.000000      0.000000   \n",
            "75%        1.000000      0.000000      0.000000      0.000000      0.000000   \n",
            "max        2.000000      2.000000      2.000000      2.000000      2.000000   \n",
            "\n",
            "             target  \n",
            "count  13512.000000  \n",
            "mean       1.562389  \n",
            "std        0.658878  \n",
            "min        0.000000  \n",
            "25%        1.000000  \n",
            "50%        2.000000  \n",
            "75%        2.000000  \n",
            "max        2.000000  \n",
            "\n",
            "[8 rows x 43 columns]\n",
            "IS NULL:\n",
            "f0        0\n",
            "f1        0\n",
            "f2        0\n",
            "f3        0\n",
            "f4        0\n",
            "f5        0\n",
            "f6        0\n",
            "f7        0\n",
            "f8        0\n",
            "f9        0\n",
            "f10       0\n",
            "f11       0\n",
            "f12       0\n",
            "f13       0\n",
            "f14       0\n",
            "f15       0\n",
            "f16       0\n",
            "f17       0\n",
            "f18       0\n",
            "f19       0\n",
            "f20       0\n",
            "f21       0\n",
            "f22       0\n",
            "f23       0\n",
            "f24       0\n",
            "f25       0\n",
            "f26       0\n",
            "f27       0\n",
            "f28       0\n",
            "f29       0\n",
            "f30       0\n",
            "f31       0\n",
            "f32       0\n",
            "f33       0\n",
            "f34       0\n",
            "f35       0\n",
            "f36       0\n",
            "f37       0\n",
            "f38       0\n",
            "f39       0\n",
            "f40       0\n",
            "f41       0\n",
            "target    0\n",
            "dtype: int64\n",
            "-------------------\n",
            "\n",
            "test set:\n",
            "HEAD:\n",
            "       f0  f1  f2  f3  f4  f5  f6  f7  f8  f9  ...  f33  f34  f35  f36  f37  \\\n",
            "62110   2   0   0   0   0   0   0   0   0   0  ...    0    0    0    0    0   \n",
            "15906   2   1   1   0   0   0   1   0   0   0  ...    0    0    0    0    0   \n",
            "23980   2   0   0   0   0   0   1   1   2   1  ...    0    0    0    0    0   \n",
            "1986    1   0   0   0   0   0   0   0   0   0  ...    0    0    0    0    0   \n",
            "53416   2   2   1   0   0   0   2   0   0   0  ...    0    0    0    1    0   \n",
            "\n",
            "       f38  f39  f40  f41  target  \n",
            "62110    0    0    0    0       2  \n",
            "15906    0    0    0    0       0  \n",
            "23980    0    0    0    0       2  \n",
            "1986     0    0    0    0       2  \n",
            "53416    0    0    0    0       2  \n",
            "\n",
            "[5 rows x 43 columns]\n",
            "STATISTICS:\n",
            "                 f0            f1            f2            f3            f4  \\\n",
            "count  13512.000000  13512.000000  13512.000000  13512.000000  13512.000000   \n",
            "mean       0.958555      0.534044      0.266652      0.127812      0.046477   \n",
            "std        0.835735      0.783137      0.609806      0.439372      0.271075   \n",
            "min        0.000000      0.000000      0.000000      0.000000      0.000000   \n",
            "25%        0.000000      0.000000      0.000000      0.000000      0.000000   \n",
            "50%        1.000000      0.000000      0.000000      0.000000      0.000000   \n",
            "75%        2.000000      1.000000      0.000000      0.000000      0.000000   \n",
            "max        2.000000      2.000000      2.000000      2.000000      2.000000   \n",
            "\n",
            "                 f5            f6            f7            f8            f9  \\\n",
            "count  13512.000000  13512.000000  13512.000000  13512.000000  13512.000000   \n",
            "mean       0.009325      1.053508      0.592362      0.289520      0.137063   \n",
            "std        0.115687      0.834650      0.798689      0.626872      0.452475   \n",
            "min        0.000000      0.000000      0.000000      0.000000      0.000000   \n",
            "25%        0.000000      0.000000      0.000000      0.000000      0.000000   \n",
            "50%        0.000000      1.000000      0.000000      0.000000      0.000000   \n",
            "75%        0.000000      2.000000      1.000000      0.000000      0.000000   \n",
            "max        2.000000      2.000000      2.000000      2.000000      2.000000   \n",
            "\n",
            "       ...           f33           f34           f35          f36  \\\n",
            "count  ...  13512.000000  13512.000000  13512.000000  13512.00000   \n",
            "mean   ...      0.059799      0.016652      0.001998      0.84140   \n",
            "std    ...      0.308477      0.160778      0.053689      0.83371   \n",
            "min    ...      0.000000      0.000000      0.000000      0.00000   \n",
            "25%    ...      0.000000      0.000000      0.000000      0.00000   \n",
            "50%    ...      0.000000      0.000000      0.000000      1.00000   \n",
            "75%    ...      0.000000      0.000000      0.000000      2.00000   \n",
            "max    ...      2.000000      2.000000      2.000000      2.00000   \n",
            "\n",
            "                f37           f38           f39           f40           f41  \\\n",
            "count  13512.000000  13512.000000  13512.000000  13512.000000  13512.000000   \n",
            "mean       0.434799      0.200192      0.069938      0.019168      0.001924   \n",
            "std        0.731547      0.541210      0.328151      0.172928      0.050127   \n",
            "min        0.000000      0.000000      0.000000      0.000000      0.000000   \n",
            "25%        0.000000      0.000000      0.000000      0.000000      0.000000   \n",
            "50%        0.000000      0.000000      0.000000      0.000000      0.000000   \n",
            "75%        1.000000      0.000000      0.000000      0.000000      0.000000   \n",
            "max        2.000000      2.000000      2.000000      2.000000      2.000000   \n",
            "\n",
            "             target  \n",
            "count  13512.000000  \n",
            "mean       1.563055  \n",
            "std        0.657916  \n",
            "min        0.000000  \n",
            "25%        1.000000  \n",
            "50%        2.000000  \n",
            "75%        2.000000  \n",
            "max        2.000000  \n",
            "\n",
            "[8 rows x 43 columns]\n",
            "IS NULL:\n",
            "f0        0\n",
            "f1        0\n",
            "f2        0\n",
            "f3        0\n",
            "f4        0\n",
            "f5        0\n",
            "f6        0\n",
            "f7        0\n",
            "f8        0\n",
            "f9        0\n",
            "f10       0\n",
            "f11       0\n",
            "f12       0\n",
            "f13       0\n",
            "f14       0\n",
            "f15       0\n",
            "f16       0\n",
            "f17       0\n",
            "f18       0\n",
            "f19       0\n",
            "f20       0\n",
            "f21       0\n",
            "f22       0\n",
            "f23       0\n",
            "f24       0\n",
            "f25       0\n",
            "f26       0\n",
            "f27       0\n",
            "f28       0\n",
            "f29       0\n",
            "f30       0\n",
            "f31       0\n",
            "f32       0\n",
            "f33       0\n",
            "f34       0\n",
            "f35       0\n",
            "f36       0\n",
            "f37       0\n",
            "f38       0\n",
            "f39       0\n",
            "f40       0\n",
            "f41       0\n",
            "target    0\n",
            "dtype: int64\n",
            "-------------------\n",
            "\n"
          ]
        }
      ],
      "source": [
        "# data inialize\n",
        "from google.colab import drive\n",
        "drive.mount('/content/drive')\n",
        "data = pd.read_pickle('/content/drive/My Drive/ass2.pickle')\n",
        "\n",
        "train = data['train']\n",
        "dev = data['dev']\n",
        "test = data['test']\n",
        "\n",
        "\n",
        "# preliminary data analysis\n",
        "print(f\"Number of samples: {train.shape[0]}\")\n",
        "print(f\"Number of features: {train.shape[1] -1}\\n\")\n",
        "for part, d in data.items():\n",
        "    print(part, \"set:\")\n",
        "    print(\"HEAD:\")\n",
        "    print(d.head()) # prints first 5 rows of the data\n",
        "    print(\"STATISTICS:\")\n",
        "    print(d.describe()) # prints descriptive statistics (count, mean, std, min, 25%, 50%, 75%, max)\n",
        "    print(\"IS NULL:\")\n",
        "    print(d.isnull().sum()) # checks if there are NaN or None in the columns\n",
        "    print(\"-------------------\\n\")\n"
      ]
    },
    {
      "cell_type": "code",
      "execution_count": 3,
      "metadata": {
        "id": "JIG2Jg1h4Fr4"
      },
      "outputs": [],
      "source": [
        "# Split the data to X and y\n",
        "X_train = train.iloc[:, :-1]\n",
        "y_train = train.iloc[:, -1]\n",
        "X_dev = dev.iloc[:, :-1]\n",
        "y_dev = dev.iloc[:, -1]\n",
        "X_test = test.iloc[:, :-1]\n",
        "y_test = test.iloc[:, -1]"
      ]
    },
    {
      "cell_type": "markdown",
      "metadata": {
        "id": "325ZSbZp4RZt"
      },
      "source": [
        "# **Decision Tree Classifier**\n",
        "\n",
        "---\n",
        "\n"
      ]
    },
    {
      "cell_type": "markdown",
      "metadata": {
        "id": "rORADe3o-Dvs"
      },
      "source": [
        "### **hyperparameter search**\n",
        "\n",
        "**'criterion'** - which function to use to measure the impurity of a split.  \n",
        "**'splitter'** - which strategy to split each node. best - best split, random - the best random split. gives randomness into process.  \n",
        "**'max_depth'** - maximum depth of the tree.  \n",
        "**'min_samples_split**' - minimum number of samples required to split an internal node.  \n",
        "**'min_samples_leaf'** - minimum number of samples required to be at a leaf node.  \n"
      ]
    },
    {
      "cell_type": "code",
      "execution_count": 4,
      "metadata": {
        "colab": {
          "base_uri": "https://localhost:8080/"
        },
        "id": "CFmt9TAp4YfB",
        "outputId": "1a8da144-e4a4-4b78-a81a-f79ccb5a8aa7"
      },
      "outputs": [
        {
          "output_type": "stream",
          "name": "stdout",
          "text": [
            "Dev Accuracy before the hyperparameter search : 0.7285375962107756\n",
            "The best Parameters:{'criterion': 'entropy', 'max_depth': None, 'min_samples_leaf': 5, 'min_samples_split': 5, 'splitter': 'random'}\n",
            "\n",
            "Metrics evaluate after hyperparameter search :\n",
            "Accuracy: 0.7264653641207816\n",
            "Precision: 0.7116094627733407\n",
            "Recall: 0.7264653641207816\n",
            "F1-score: 0.7183230819840649\n",
            "Mean Squared Error: 0.5102131438721137\n",
            "Confusion Matrix:\n",
            "[[ 216  396  658]\n",
            " [ 281 2084 1008]\n",
            " [ 408  945 7516]]\n"
          ]
        }
      ],
      "source": [
        "model_default = DecisionTreeClassifier()\n",
        "model_default.fit(X_train, y_train)\n",
        "y_pred = model_default.predict(X_dev)\n",
        "accuracy = accuracy_score(y_dev, y_pred)\n",
        "print(f'Dev Accuracy before the hyperparameter search : {accuracy}')\n",
        "\n",
        "model = DecisionTreeClassifier()\n",
        "params = {\n",
        "    'criterion': ['gini', 'entropy'],\n",
        "    'splitter': ['best', 'random'],\n",
        "    'max_depth': [None, 10],\n",
        "    'min_samples_split': [2, 5, 10],\n",
        "    'min_samples_leaf': [1, 2, 5],\n",
        "}\n",
        "grid_search = GridSearchCV(estimator=model, param_grid=params,n_jobs=-1)\n",
        "grid_search.fit(X_train, y_train)\n",
        "print(f\"The best Parameters:{grid_search.best_params_}\\n\")\n",
        "grid_model = grid_search.best_estimator_\n",
        "y_pred = grid_model.predict(X_dev)\n",
        "\n",
        "# Evaluate model\n",
        "accuracy = accuracy_score(y_dev, y_pred)\n",
        "precision = precision_score(y_dev, y_pred,average='weighted')\n",
        "recall = recall_score(y_dev, y_pred,average='weighted')\n",
        "f1 = f1_score(y_dev, y_pred,average='weighted')\n",
        "mse = mean_squared_error(y_dev, y_pred)\n",
        "conf_matrix = confusion_matrix(y_dev, y_pred)\n",
        "\n",
        "print(\"Metrics evaluate after hyperparameter search :\")\n",
        "print(f\"Accuracy: {accuracy}\")\n",
        "print(f\"Precision: {precision}\")\n",
        "print(f\"Recall: {recall}\")\n",
        "print(f\"F1-score: {f1}\")\n",
        "print(f\"Mean Squared Error: {mse}\")\n",
        "print(f\"Confusion Matrix:\\n{conf_matrix}\")"
      ]
    },
    {
      "cell_type": "markdown",
      "metadata": {
        "id": "H5Jf6QOo4tOt"
      },
      "source": [
        "# **Random Forest Classifier**\n",
        "\n",
        "---\n",
        "\n"
      ]
    },
    {
      "cell_type": "markdown",
      "metadata": {
        "id": "sofW4TgvnT1c"
      },
      "source": [
        "### **hyperparameter search**\n",
        "\n",
        "**'n_estimators'** - number of trees to build.  \n",
        "**'criterion'** - which function to use to measure the impurity of a split.   \n",
        "**'max_depth'** - maximum depth of the tree.  \n",
        "**'min_samples_split**' - minimum number of samples required to split an internal node.  \n",
        "\n"
      ]
    },
    {
      "cell_type": "code",
      "execution_count": 5,
      "metadata": {
        "colab": {
          "base_uri": "https://localhost:8080/"
        },
        "id": "J0cGoc1T4y1A",
        "outputId": "e74f23fe-e719-48fe-b0db-9559cd9b7418"
      },
      "outputs": [
        {
          "output_type": "stream",
          "name": "stdout",
          "text": [
            "Dev Accuracy before the hyperparameter search : 0.8115748963883955\n",
            "The best Parameters:{'criterion': 'entropy', 'max_depth': None, 'min_samples_split': 2, 'n_estimators': 150}\n",
            "\n",
            "Metrics evaluate:\n",
            "Accuracy: 0.8128330373001776\n",
            "Precision: 0.7887127517970387\n",
            "Recall: 0.8128330373001776\n",
            "F1-score: 0.7857517203311998\n",
            "Mean Squared Error: 0.3761101243339254\n",
            "Confusion Matrix:\n",
            "[[ 158  325  787]\n",
            " [  90 2307  976]\n",
            " [  64  287 8518]]\n"
          ]
        }
      ],
      "source": [
        "model_default = RandomForestClassifier()\n",
        "model_default.fit(X_train, y_train)\n",
        "y_pred = model_default.predict(X_dev)\n",
        "accuracy = accuracy_score(y_dev, y_pred)\n",
        "print(f'Dev Accuracy before the hyperparameter search : {accuracy}')\n",
        "\n",
        "model = RandomForestClassifier()\n",
        "params = {\n",
        "    'n_estimators' : [100, 150],\n",
        "    'criterion': ['gini', 'entropy'],\n",
        "    'max_depth': [None, 10],\n",
        "    'min_samples_split': [2, 5]\n",
        "}\n",
        "\n",
        "grid_search = GridSearchCV(estimator=model, param_grid=params,n_jobs=-1)\n",
        "grid_search.fit(X_train, y_train)\n",
        "\n",
        "print(f\"The best Parameters:{grid_search.best_params_}\\n\")\n",
        "grid_model = grid_search.best_estimator_\n",
        "y_pred = grid_model.predict(X_dev)\n",
        "\n",
        "# Evaluate model\n",
        "accuracy = accuracy_score(y_dev, y_pred)\n",
        "precision = precision_score(y_dev, y_pred,average='weighted')\n",
        "recall = recall_score(y_dev, y_pred,average='weighted')\n",
        "f1 = f1_score(y_dev, y_pred,average='weighted')\n",
        "mse = mean_squared_error(y_dev, y_pred)\n",
        "conf_matrix = confusion_matrix(y_dev, y_pred)\n",
        "\n",
        "print(\"Metrics evaluate:\")\n",
        "print(f\"Accuracy: {accuracy}\")\n",
        "print(f\"Precision: {precision}\")\n",
        "print(f\"Recall: {recall}\")\n",
        "print(f\"F1-score: {f1}\")\n",
        "print(f\"Mean Squared Error: {mse}\")\n",
        "print(f\"Confusion Matrix:\\n{conf_matrix}\")"
      ]
    },
    {
      "cell_type": "markdown",
      "metadata": {
        "id": "UEUpe6dy42Ty"
      },
      "source": [
        "# **K-Nearest Neighbors Classifier**\n",
        "\n",
        "---"
      ]
    },
    {
      "cell_type": "markdown",
      "metadata": {
        "id": "9U9rdjr-B93o"
      },
      "source": [
        "### **hyperparameter search**\n",
        "\n",
        "**'n_neighbors'** - Number of neighbors.  \n",
        "**'weights'** -  The weight function use.  \n",
        "**'algorithm'** - Algorithm used to compute the nearest neighbors.  \n",
        "\n",
        "\n",
        "\n",
        "\n"
      ]
    },
    {
      "cell_type": "code",
      "execution_count": 6,
      "metadata": {
        "colab": {
          "base_uri": "https://localhost:8080/"
        },
        "collapsed": true,
        "id": "2WhyYU0y45EE",
        "outputId": "a0ba0852-17ad-4c06-d548-c91e67f60acd"
      },
      "outputs": [
        {
          "output_type": "stream",
          "name": "stdout",
          "text": [
            "Dev Accuracy before the hyperparameter search : 0.7336441681468324\n",
            "The best Parameters:{'algorithm': 'auto', 'n_neighbors': 10, 'weights': 'distance'}\n",
            "\n",
            "Metrics evaluate:\n",
            "Accuracy: 0.7695381882770871\n",
            "Precision: 0.7417385734764471\n",
            "Recall: 0.7695381882770871\n",
            "F1-score: 0.7384686857435047\n",
            "Mean Squared Error: 0.436056838365897\n",
            "Confusion Matrix:\n",
            "[[ 143  295  832]\n",
            " [  90 1853 1430]\n",
            " [  94  373 8402]]\n"
          ]
        }
      ],
      "source": [
        "# Normalizing the' data: The algorithm computes distances between data points. The features should be in the same scale to get the same importance.\n",
        "scaler = MinMaxScaler()\n",
        "X_train_scaled = scaler.fit_transform(X_train)\n",
        "X_dev_scaled = scaler.transform(X_dev)\n",
        "\n",
        "model_default = KNeighborsClassifier()\n",
        "model_default.fit(X_train_scaled, y_train)\n",
        "y_pred = model_default.predict(X_dev_scaled)\n",
        "accuracy = accuracy_score(y_dev, y_pred)\n",
        "print(f'Dev Accuracy before the hyperparameter search : {accuracy}')\n",
        "\n",
        "model = KNeighborsClassifier()\n",
        "\n",
        "params = {\n",
        "    'n_neighbors': [5, 10],\n",
        "    'weights': ['uniform', 'distance'],\n",
        "    'algorithm': ['auto', 'ball_tree'],\n",
        "}\n",
        "\n",
        "grid_search = GridSearchCV(estimator=model, param_grid=params,n_jobs=-1)\n",
        "grid_search.fit(X_train_scaled, y_train)\n",
        "\n",
        "print(f\"The best Parameters:{grid_search.best_params_}\\n\")\n",
        "grid_model = grid_search.best_estimator_\n",
        "y_pred = grid_model.predict(X_dev_scaled)\n",
        "\n",
        "# Evaluate model\n",
        "accuracy = accuracy_score(y_dev, y_pred)\n",
        "precision = precision_score(y_dev, y_pred,average='weighted')\n",
        "recall = recall_score(y_dev, y_pred,average='weighted')\n",
        "f1 = f1_score(y_dev, y_pred,average='weighted')\n",
        "mse = mean_squared_error(y_dev, y_pred)\n",
        "conf_matrix = confusion_matrix(y_dev, y_pred)\n",
        "\n",
        "print(\"Metrics evaluate:\")\n",
        "print(f\"Accuracy: {accuracy}\")\n",
        "print(f\"Precision: {precision}\")\n",
        "print(f\"Recall: {recall}\")\n",
        "print(f\"F1-score: {f1}\")\n",
        "print(f\"Mean Squared Error: {mse}\")\n",
        "print(f\"Confusion Matrix:\\n{conf_matrix}\")\n"
      ]
    },
    {
      "cell_type": "markdown",
      "metadata": {
        "id": "2UBilfW8RxZp"
      },
      "source": [
        "# **Linear Regression**\n",
        "\n",
        "\n",
        "---\n",
        "\n"
      ]
    },
    {
      "cell_type": "code",
      "execution_count": 7,
      "metadata": {
        "collapsed": true,
        "id": "Pn7YKvW7RzLq",
        "colab": {
          "base_uri": "https://localhost:8080/"
        },
        "outputId": "57201ffe-213b-41fa-806a-aaf5d4b4e557"
      },
      "outputs": [
        {
          "output_type": "stream",
          "name": "stdout",
          "text": [
            "Linear Regression\n",
            "\tMean Squared Error on dev set: 0.41757970734274974\n"
          ]
        }
      ],
      "source": [
        "print(\"Linear Regression\")\n",
        "\n",
        "lin_reg = LinearRegression()\n",
        "lin_reg.fit(X_train, y_train)\n",
        "\n",
        "y_pred_dev = lin_reg.predict(X_dev)\n",
        "mse_dev = mean_squared_error(y_dev, y_pred_dev)\n",
        "print(f'\\tMean Squared Error on dev set: {mse_dev}')\n"
      ]
    },
    {
      "cell_type": "markdown",
      "metadata": {
        "id": "V4w76c5-R_Ef"
      },
      "source": [
        "# **Logistic Regression**\n",
        "\n",
        "---\n",
        "\n",
        "### **hyperparameter search**\n",
        "\n",
        "**'C'** - the inverse of regularization strength. when C is smaller, the regularization is strogner (C=1/$\\lambda$)\\\n",
        "**'solver** - specifies which algorithm to use in the optimization problem\n",
        "* liblinear - handles L1 reg. Used mainly for small datasets.\n",
        "* saga - supports both L1 and L2 reg. Used mainly for large datasets.\n"
      ]
    },
    {
      "cell_type": "code",
      "execution_count": 8,
      "metadata": {
        "collapsed": true,
        "id": "OzRuopUcR_u5",
        "colab": {
          "base_uri": "https://localhost:8080/"
        },
        "outputId": "9a315ca2-eb2a-45bd-cc08-71ac6336ec5a"
      },
      "outputs": [
        {
          "output_type": "stream",
          "name": "stdout",
          "text": [
            "Logistic Regression\n",
            "\tDev Accuracy: 0.6596358792184724\n",
            "\tOptimal Parameters: {'C': 1, 'solver': 'liblinear'}\n",
            "\tDev Accuracy (using optimal params): 0.659117821195974\n",
            "\tDev precision (using optimal params): 0.5655829743778172\n",
            "\tDev precision (using optimal params): 0.659117821195974\n",
            "\tDev precision (using optimal params): 0.5356495486534003\n",
            "\tDev mean_squared_error (using optimal params): 0.6170811130846655\n",
            "\tDev conf_matrix (using optimal params):\n",
            " [[   0   26 1244]\n",
            " [   0  106 3267]\n",
            " [   0   69 8800]]\n"
          ]
        },
        {
          "output_type": "stream",
          "name": "stderr",
          "text": [
            "/usr/local/lib/python3.10/dist-packages/sklearn/metrics/_classification.py:1344: UndefinedMetricWarning: Precision is ill-defined and being set to 0.0 in labels with no predicted samples. Use `zero_division` parameter to control this behavior.\n",
            "  _warn_prf(average, modifier, msg_start, len(result))\n"
          ]
        }
      ],
      "source": [
        "print(\"Logistic Regression\")\n",
        "\n",
        "log_reg = LogisticRegression(max_iter=1000)\n",
        "log_reg.fit(X_train, y_train)\n",
        "y_pred_dev = log_reg.predict(X_dev)\n",
        "accuracy_dev = accuracy_score(y_dev, y_pred_dev)\n",
        "print(f'\\tDev Accuracy: {accuracy_dev}')\n",
        "\n",
        "\n",
        "param_grid_log_reg = {\n",
        "    'C': [1, 10, 100],\n",
        "    'solver': ['liblinear', 'saga']\n",
        "}\n",
        "grid_search_log_reg = GridSearchCV(LogisticRegression(max_iter=1000), param_grid_log_reg, cv=5, scoring='accuracy')\n",
        "grid_search_log_reg.fit(X_train, y_train)\n",
        "\n",
        "print(f'\\tOptimal Parameters: {grid_search_log_reg.best_params_}')\n",
        "best_log_reg = grid_search_log_reg.best_estimator_\n",
        "\n",
        "y_pred_dev_best_log_reg = best_log_reg.predict(X_dev)\n",
        "\n",
        "# Evaluate model\n",
        "accuracy_dev_best_log_reg = accuracy_score(y_dev, y_pred_dev_best_log_reg)\n",
        "print(f'\\tDev Accuracy (using optimal params): {accuracy_dev_best_log_reg}')\n",
        "\n",
        "precision_dev_best_log_reg = precision_score(y_dev, y_pred_dev_best_log_reg,average='weighted')\n",
        "print(f'\\tDev precision (using optimal params): {precision_dev_best_log_reg}')\n",
        "\n",
        "recall_score_dev_best_log_reg = recall_score(y_dev, y_pred_dev_best_log_reg,average='weighted')\n",
        "print(f'\\tDev precision (using optimal params): {recall_score_dev_best_log_reg}')\n",
        "\n",
        "f1_score_dev_best_log_reg = f1_score(y_dev, y_pred_dev_best_log_reg,average='weighted')\n",
        "print(f'\\tDev precision (using optimal params): {f1_score_dev_best_log_reg}')\n",
        "\n",
        "mean_squared_error = mean_squared_error(y_dev, y_pred_dev_best_log_reg)\n",
        "print(f'\\tDev mean_squared_error (using optimal params): {mean_squared_error}')\n",
        "\n",
        "conf_matrix = confusion_matrix(y_dev, y_pred_dev_best_log_reg)\n",
        "print(f'\\tDev conf_matrix (using optimal params):\\n {conf_matrix}')\n",
        "\n",
        "\n"
      ]
    },
    {
      "cell_type": "markdown",
      "metadata": {
        "id": "FdcPg7GvSXlu"
      },
      "source": [
        "# **SVM**\n",
        "\n",
        "---\n",
        "\n",
        "**hyperparameter search**\n",
        "\n",
        "**'C'** - represents the penalty parameter; controls the trade-off between smooth decision boundaries and classifying training.\\\n",
        "**'kernel'** - specifies the type of kernel to be used in the selected algorithm.\n",
        "* linear - Linear kernel, best for cases when data is linearly separable.\n",
        "* rbf - Radial Basis Function kernel, handles non-linear relationships.\n",
        "\n",
        "NOTE : We decided to omit this model due to resource shortage"
      ]
    },
    {
      "cell_type": "code",
      "execution_count": 9,
      "metadata": {
        "id": "rR_bx_N8SYOW"
      },
      "outputs": [],
      "source": [
        "# print(\"SVM\")\n",
        "\n",
        "# svm_model = SVC()\n",
        "# svm_model.fit(X_train, y_train)\n",
        "\n",
        "# y_pred_dev = svm_model.predict(X_dev)\n",
        "# accuracy_dev_svm = accuracy_score(y_dev, y_pred_dev)\n",
        "# print(f'\\tDev Accuracy: {accuracy_dev_svm}')\n",
        "\n",
        "# param_grid_svm = {\n",
        "#     'C': [1, 10, 100],\n",
        "#     'kernel': ['linear', 'rbf']\n",
        "# }\n",
        "# grid_search_svm = GridSearchCV(SVC(), param_grid_svm, cv=5, scoring='accuracy')\n",
        "# grid_search_svm.fit(X_train, y_train)\n",
        "\n",
        "# print(f'\\tOptimal Parameters: {grid_search_svm.best_params_}')\n",
        "# best_svm = grid_search_svm.best_estimator_\n",
        "\n",
        "# y_pred_dev_best_svm = best_svm.predict(X_dev)\n",
        "\n",
        "# # Evaluate model\n",
        "# accuracy_dev_best_log_reg = accuracy_score(y_dev, y_pred_dev_best_log_reg)\n",
        "# print(f'\\tDev Accuracy (using optimal params): {accuracy_dev_best_log_reg}')\n",
        "\n",
        "# precision_dev_best_log_reg = precision_score(y_dev, y_pred_dev_best_log_reg,average='weighted')\n",
        "# print(f'\\tDev precision (using optimal params): {precision_dev_best_log_reg}')\n",
        "\n",
        "# recall_score_dev_best_log_reg = recall_score(y_dev, y_pred_dev_best_log_reg,average='weighted')\n",
        "# print(f'\\tDev precision (using optimal params): {recall_score_dev_best_log_reg}')\n",
        "\n",
        "# f1_score_dev_best_log_reg = f1_score(y_dev, y_pred_dev_best_log_reg,average='weighted')\n",
        "# print(f'\\tDev precision (using optimal params): {f1_score_dev_best_log_reg}')\n",
        "\n",
        "# mean_squared_error = mean_squared_error(y_dev, y_pred_dev_best_log_reg)\n",
        "# print(f'\\tDev mean_squared_error (using optimal params): {mean_squared_error}')\n",
        "\n",
        "# conf_matrix = confusion_matrix(y_dev, y_pred_dev_best_log_reg)\n",
        "# print(f'\\tDev conf_matrix (using optimal params):\\n {conf_matrix}')\n",
        "\n"
      ]
    },
    {
      "cell_type": "markdown",
      "metadata": {
        "id": "iKzk9fagVsFH"
      },
      "source": [
        "## **AdaBoost, GradientBoosting and XGBoost**\n",
        "\n",
        "---\n"
      ]
    },
    {
      "cell_type": "code",
      "execution_count": 10,
      "metadata": {
        "id": "b3QqFJImVtA4",
        "colab": {
          "base_uri": "https://localhost:8080/"
        },
        "outputId": "b7b7380b-6ce6-486f-8f8b-ca7395b9801a"
      },
      "outputs": [
        {
          "output_type": "stream",
          "name": "stdout",
          "text": [
            "AdaBoost Accuracy: 0.7312\n",
            "              precision    recall  f1-score   support\n",
            "\n",
            "           0       0.00      0.00      0.00      1270\n",
            "           1       0.71      0.42      0.53      3373\n",
            "           2       0.74      0.95      0.83      8869\n",
            "\n",
            "    accuracy                           0.73     13512\n",
            "   macro avg       0.48      0.46      0.45     13512\n",
            "weighted avg       0.66      0.73      0.68     13512\n",
            "\n"
          ]
        },
        {
          "output_type": "stream",
          "name": "stderr",
          "text": [
            "/usr/local/lib/python3.10/dist-packages/sklearn/metrics/_classification.py:1344: UndefinedMetricWarning: Precision and F-score are ill-defined and being set to 0.0 in labels with no predicted samples. Use `zero_division` parameter to control this behavior.\n",
            "  _warn_prf(average, modifier, msg_start, len(result))\n",
            "/usr/local/lib/python3.10/dist-packages/sklearn/metrics/_classification.py:1344: UndefinedMetricWarning: Precision and F-score are ill-defined and being set to 0.0 in labels with no predicted samples. Use `zero_division` parameter to control this behavior.\n",
            "  _warn_prf(average, modifier, msg_start, len(result))\n",
            "/usr/local/lib/python3.10/dist-packages/sklearn/metrics/_classification.py:1344: UndefinedMetricWarning: Precision and F-score are ill-defined and being set to 0.0 in labels with no predicted samples. Use `zero_division` parameter to control this behavior.\n",
            "  _warn_prf(average, modifier, msg_start, len(result))\n"
          ]
        },
        {
          "output_type": "stream",
          "name": "stdout",
          "text": [
            "GradientBoosting Accuracy: 0.7552\n",
            "              precision    recall  f1-score   support\n",
            "\n",
            "           0       0.73      0.01      0.02      1270\n",
            "           1       0.73      0.50      0.60      3373\n",
            "           2       0.76      0.96      0.85      8869\n",
            "\n",
            "    accuracy                           0.76     13512\n",
            "   macro avg       0.74      0.49      0.49     13512\n",
            "weighted avg       0.75      0.76      0.71     13512\n",
            "\n",
            "XGBoost Accuracy: 0.8336\n",
            "              precision    recall  f1-score   support\n",
            "\n",
            "           0       0.55      0.16      0.24      1270\n",
            "           1       0.78      0.78      0.78      3373\n",
            "           2       0.86      0.95      0.91      8869\n",
            "\n",
            "    accuracy                           0.83     13512\n",
            "   macro avg       0.73      0.63      0.64     13512\n",
            "weighted avg       0.81      0.83      0.81     13512\n",
            "\n"
          ]
        }
      ],
      "source": [
        "# Initialize models\n",
        "models = {\n",
        "    'AdaBoost': AdaBoostClassifier(),\n",
        "    'GradientBoosting': GradientBoostingClassifier(),\n",
        "    'XGBoost': XGBClassifier()\n",
        "}\n",
        "\n",
        "# Train and evaluate models\n",
        "for name, model in models.items():\n",
        "    model.fit(X_train, y_train)\n",
        "    y_pred = model.predict(X_dev)\n",
        "    accuracy = accuracy_score(y_dev, y_pred)\n",
        "    print(f'{name} Accuracy: {accuracy:.4f}')\n",
        "    print(classification_report(y_dev, y_pred))"
      ]
    },
    {
      "cell_type": "code",
      "execution_count": 11,
      "metadata": {
        "id": "WrDqKOzsVvUJ",
        "colab": {
          "base_uri": "https://localhost:8080/"
        },
        "outputId": "fd9e8fd5-b192-4386-f2f4-c21504f566c1"
      },
      "outputs": [
        {
          "output_type": "stream",
          "name": "stdout",
          "text": [
            "Best parameters for AdaBoost: {'n_estimators': 200}\n",
            "Best cross-validated accuracy for AdaBoost: 0.7494\n",
            "Best parameters for GradientBoosting: {'learning_rate': 0.2, 'n_estimators': 200}\n",
            "Best cross-validated accuracy for GradientBoosting: 0.7862\n",
            "Best parameters for XGBoost: {'learning_rate': 0.2, 'max_depth': 5, 'n_estimators': 200}\n",
            "Best cross-validated accuracy for XGBoost: 0.8171\n"
          ]
        }
      ],
      "source": [
        "# Define hyperparameters for tuning\n",
        "param_grids = {\n",
        "    'AdaBoost': {'n_estimators': [50, 100, 200]},\n",
        "    'GradientBoosting': {'n_estimators': [50, 100, 200], 'learning_rate': [0.01, 0.1, 0.2]},\n",
        "    'XGBoost': {'n_estimators': [50, 100, 200], 'learning_rate': [0.01, 0.1, 0.2], 'max_depth': [3, 4, 5]}\n",
        "}\n",
        "\n",
        "# Perform GridSearchCV for each model\n",
        "best_estimators = {}\n",
        "for name, param_grid in param_grids.items():\n",
        "    model = models[name]\n",
        "    grid_search = GridSearchCV(estimator=model, param_grid=param_grid, scoring='accuracy', cv=5, n_jobs=-1)\n",
        "    grid_search.fit(X_train, y_train)\n",
        "    best_estimators[name] = grid_search.best_estimator_\n",
        "    print(f'Best parameters for {name}: {grid_search.best_params_}')\n",
        "    print(f'Best cross-validated accuracy for {name}: {grid_search.best_score_:.4f}')\n"
      ]
    },
    {
      "cell_type": "code",
      "execution_count": 13,
      "metadata": {
        "id": "xNDBnYC2VxXh",
        "colab": {
          "base_uri": "https://localhost:8080/"
        },
        "outputId": "c0578f10-6ba3-4f23-a0cd-9749a466ccb8"
      },
      "outputs": [
        {
          "output_type": "stream",
          "name": "stdout",
          "text": [
            "The Model: AdaBoost\n",
            "Test Accuracy: 0.7506\n",
            "              precision    recall  f1-score   support\n",
            "\n",
            "           0       0.00      0.00      0.00      1270\n",
            "           1       0.69      0.55      0.61      3373\n",
            "           2       0.77      0.93      0.84      8869\n",
            "\n",
            "    accuracy                           0.75     13512\n",
            "   macro avg       0.49      0.49      0.48     13512\n",
            "weighted avg       0.67      0.75      0.71     13512\n",
            "\n",
            "The Model: GradientBoosting\n",
            "Test Accuracy: 0.7925\n",
            "              precision    recall  f1-score   support\n",
            "\n",
            "           0       0.55      0.05      0.09      1270\n",
            "           1       0.73      0.67      0.70      3373\n",
            "           2       0.81      0.94      0.87      8869\n",
            "\n",
            "    accuracy                           0.79     13512\n",
            "   macro avg       0.70      0.56      0.56     13512\n",
            "weighted avg       0.77      0.79      0.76     13512\n",
            "\n",
            "The Model: XGBoost\n",
            "Test Accuracy: 0.8261\n",
            "              precision    recall  f1-score   support\n",
            "\n",
            "           0       0.57      0.13      0.22      1270\n",
            "           1       0.77      0.76      0.77      3373\n",
            "           2       0.85      0.95      0.90      8869\n",
            "\n",
            "    accuracy                           0.83     13512\n",
            "   macro avg       0.73      0.62      0.63     13512\n",
            "weighted avg       0.81      0.83      0.80     13512\n",
            "\n"
          ]
        },
        {
          "output_type": "stream",
          "name": "stderr",
          "text": [
            "/usr/local/lib/python3.10/dist-packages/sklearn/metrics/_classification.py:1344: UndefinedMetricWarning: Precision and F-score are ill-defined and being set to 0.0 in labels with no predicted samples. Use `zero_division` parameter to control this behavior.\n",
            "  _warn_prf(average, modifier, msg_start, len(result))\n",
            "/usr/local/lib/python3.10/dist-packages/sklearn/metrics/_classification.py:1344: UndefinedMetricWarning: Precision and F-score are ill-defined and being set to 0.0 in labels with no predicted samples. Use `zero_division` parameter to control this behavior.\n",
            "  _warn_prf(average, modifier, msg_start, len(result))\n",
            "/usr/local/lib/python3.10/dist-packages/sklearn/metrics/_classification.py:1344: UndefinedMetricWarning: Precision and F-score are ill-defined and being set to 0.0 in labels with no predicted samples. Use `zero_division` parameter to control this behavior.\n",
            "  _warn_prf(average, modifier, msg_start, len(result))\n"
          ]
        }
      ],
      "source": [
        "for name ,model in best_estimators.items():\n",
        "  y_dev_pred = model.predict(X_dev)\n",
        "  test_accuracy = accuracy_score(y_dev, y_dev_pred)\n",
        "  print(f'The Model: {name}')\n",
        "  print(f'Test Accuracy: {test_accuracy:.4f}')\n",
        "  print(classification_report(y_dev, y_dev_pred))"
      ]
    },
    {
      "cell_type": "markdown",
      "source": [
        "# Test set evaluation"
      ],
      "metadata": {
        "id": "ZFcmU7nt7qpG"
      }
    },
    {
      "cell_type": "markdown",
      "source": [
        "After training and evaluating these models, we compared their performance using accuracy as the primary metric. The XGBoost model outperformed the others, achieving the highest accuracy on the development set.\n",
        "\n",
        "During hyperparameter tuning, we found the best parameters for XGBoost to be:\n",
        "\n",
        "\n",
        "\n",
        "*   learning_rate: 0.2\n",
        "*   max_depth: 5\n",
        "*   n_estimators: 200\n",
        "\n",
        "\n",
        "\n",
        "\n",
        "\n"
      ],
      "metadata": {
        "id": "-yRbRXsH78gk"
      }
    },
    {
      "cell_type": "code",
      "source": [
        "best_model = best_estimators['XGBoost']\n",
        "y_test_pred = best_model.predict(X_test)\n",
        "test_accuracy = accuracy_score(y_test, y_test_pred)\n",
        "print(f'Test Accuracy: {test_accuracy:.4f}')\n",
        "print(classification_report(y_test, y_test_pred))"
      ],
      "metadata": {
        "colab": {
          "base_uri": "https://localhost:8080/"
        },
        "id": "_4GPaGFU8fjg",
        "outputId": "efd225f4-9584-4f50-fd15-1efd8dd1d742"
      },
      "execution_count": 14,
      "outputs": [
        {
          "output_type": "stream",
          "name": "stdout",
          "text": [
            "Test Accuracy: 0.8204\n",
            "              precision    recall  f1-score   support\n",
            "\n",
            "           0       0.55      0.12      0.20      1262\n",
            "           1       0.77      0.75      0.76      3380\n",
            "           2       0.85      0.95      0.89      8870\n",
            "\n",
            "    accuracy                           0.82     13512\n",
            "   macro avg       0.72      0.61      0.62     13512\n",
            "weighted avg       0.80      0.82      0.79     13512\n",
            "\n"
          ]
        }
      ]
    }
  ],
  "metadata": {
    "accelerator": "GPU",
    "colab": {
      "gpuType": "A100",
      "machine_shape": "hm",
      "provenance": []
    },
    "kernelspec": {
      "display_name": "Python 3",
      "name": "python3"
    },
    "language_info": {
      "name": "python"
    }
  },
  "nbformat": 4,
  "nbformat_minor": 0
}